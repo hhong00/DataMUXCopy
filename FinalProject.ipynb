{
  "cells": [
    {
      "cell_type": "markdown",
      "metadata": {
        "id": "view-in-github",
        "colab_type": "text"
      },
      "source": [
        "<a href=\"https://colab.research.google.com/github/hhong00/DataMUXCopy/blob/main/FinalProject.ipynb\" target=\"_parent\"><img src=\"https://colab.research.google.com/assets/colab-badge.svg\" alt=\"Open In Colab\"/></a>"
      ]
    },
    {
      "cell_type": "markdown",
      "metadata": {
        "id": "9RtM4ZiJomxc"
      },
      "source": [
        "**Setup for DataMUX Model**"
      ]
    },
    {
      "cell_type": "code",
      "execution_count": null,
      "metadata": {
        "id": "bV2vv5ozppM_"
      },
      "outputs": [],
      "source": [
        "!pip install -q condacolab\n",
        "import condacolab\n",
        "condacolab.install()"
      ]
    },
    {
      "cell_type": "code",
      "execution_count": null,
      "metadata": {
        "id": "StceCalwqFV8"
      },
      "outputs": [],
      "source": [
        "import condacolab\n",
        "condacolab.check()"
      ]
    },
    {
      "cell_type": "markdown",
      "metadata": {
        "id": "pAtSQFpxCd7i"
      },
      "source": [
        "**Cloning Github Repo**"
      ]
    },
    {
      "cell_type": "code",
      "execution_count": null,
      "metadata": {
        "id": "PktDaW1Wo1LZ"
      },
      "outputs": [],
      "source": [
        "!git clone https://github.com/hhong00/DataMUXCopy.git datamux"
      ]
    },
    {
      "cell_type": "code",
      "source": [
        "!git clone https://github.com/princeton-nlp/DataMUX.git datamuxOrig"
      ],
      "metadata": {
        "id": "8utEVpQS64bU"
      },
      "execution_count": null,
      "outputs": []
    },
    {
      "cell_type": "markdown",
      "source": [
        "Create Conda Environment"
      ],
      "metadata": {
        "id": "D-AN1ijUIwZW"
      }
    },
    {
      "cell_type": "code",
      "execution_count": null,
      "metadata": {
        "colab": {
          "background_save": true
        },
        "id": "6Cn__e9xv4ab"
      },
      "outputs": [],
      "source": [
        "!conda env create -f env.yaml"
      ]
    },
    {
      "cell_type": "markdown",
      "source": [
        "SST2 Bash Scripts for Pretraining"
      ],
      "metadata": {
        "id": "wt3VweszrpMP"
      }
    },
    {
      "cell_type": "code",
      "execution_count": null,
      "metadata": {
        "id": "kybHrw8DZSmE"
      },
      "outputs": [],
      "source": [
        "%%bash\n",
        "source activate datamux\n",
        "\n",
        "bash run_glue.sh \\\n",
        "   -N 10 \\\n",
        "   -d index \\\n",
        "   -m gaussian_hadamard \\\n",
        "   -s retrieval_pretraining \\\n",
        "   --config_name configs/ablations/base_model/roberta.json \\\n",
        "   --lr 5e-5 \\\n",
        "   --do_train \\\n",
        "   --do_eval"
      ]
    },
    {
      "cell_type": "markdown",
      "source": [
        "Passing Pretrained checkpoints to the google drive folder as zip"
      ],
      "metadata": {
        "id": "sWYp0V9gr7bQ"
      }
    },
    {
      "cell_type": "code",
      "source": [
        "!zip -r /content/file.zip /content/datamux/datamux/lstm/pretraining"
      ],
      "metadata": {
        "id": "asrYCeWOhkN4"
      },
      "execution_count": null,
      "outputs": []
    },
    {
      "cell_type": "code",
      "source": [
        "from google.colab import drive\n",
        "drive.mount('/content/gdrive')"
      ],
      "metadata": {
        "id": "_i4RZVP0sQMm"
      },
      "execution_count": null,
      "outputs": []
    },
    {
      "cell_type": "code",
      "source": [
        "!cp /content/file.zip 'Path to google drive COS484 folder'"
      ],
      "metadata": {
        "id": "Vy6Xka4Drzbh"
      },
      "execution_count": null,
      "outputs": []
    },
    {
      "cell_type": "markdown",
      "source": [
        "unzip model, move back to correct directory. This step only used if unzipping pretrain checkpoints"
      ],
      "metadata": {
        "id": "4yTyGOrC2wHe"
      }
    },
    {
      "cell_type": "code",
      "source": [
        "! unzip /content/gdrive/MyDrive/COS484FinalProject/SST/PretrainCheckpoints/LSTMPreTrainN10IndexDemux/file.zip\n",
        "!mkdir -p /content/datamux/datamux/lstm/pretraining/model.pt\n",
        "!cp /content/content/datamux/datamux/lstm/pretraining/model.pt /content/datamux/datamux/lstm/pretraining/model.pt"
      ],
      "metadata": {
        "id": "a4Zk0wh02gdO"
      },
      "execution_count": null,
      "outputs": []
    },
    {
      "cell_type": "code",
      "source": [
        "!sh run_glue.sh \\\n",
        "   -N 2 \\\n",
        "   -d index \\\n",
        "   -m gaussian_hadamard \\\n",
        "   -s finetuning \\\n",
        "   --config_name configs/ablations/base_model/roberta.json \\\n",
        "   --lr 5e-5 \\\n",
        "   --task sst2 \\\n",
        "   --model_path 'path to either huggingface checkpoint by princeton-nlp or local path' \\\n",
        "   --do_train \\\n",
        "   --do_eval"
      ],
      "metadata": {
        "id": "qjIAzzxRRvQh"
      },
      "execution_count": null,
      "outputs": []
    },
    {
      "cell_type": "markdown",
      "source": [
        "NER Task Finetuning"
      ],
      "metadata": {
        "id": "5_g37C2Ar-zH"
      }
    },
    {
      "cell_type": "code",
      "source": [
        "!bash run_ner.sh \\\n",
        "   -N 2 \\\n",
        "   -d index \\\n",
        "   -m gaussian_hadamard \\\n",
        "   -s finetuning \\\n",
        "   --config_name configs/ablations/base_model/roberta.json \\\n",
        "   --lr 5e-5 \\\n",
        "   --task ner \\\n",
        "   --model_path 'path to either huggingface checkpoint by princeton-nlp or local path' \\\n",
        "   --do_train \\\n",
        "   --do_eval "
      ],
      "metadata": {
        "id": "AzNGY014mIk3"
      },
      "execution_count": null,
      "outputs": []
    },
    {
      "cell_type": "markdown",
      "source": [
        "Random code for preventing timeout"
      ],
      "metadata": {
        "id": "e4Y6vZEMmhKE"
      }
    },
    {
      "cell_type": "code",
      "source": [
        "import time\n",
        "for i in range(360):\n",
        "  print(\"lmao\")\n",
        "  time.sleep(10)"
      ],
      "metadata": {
        "id": "ktneBbLEmjHJ"
      },
      "execution_count": null,
      "outputs": []
    }
  ],
  "metadata": {
    "colab": {
      "provenance": [],
      "include_colab_link": true
    },
    "kernelspec": {
      "display_name": "Python 3",
      "name": "python3"
    },
    "language_info": {
      "name": "python"
    },
    "gpuClass": "standard",
    "accelerator": "GPU"
  },
  "nbformat": 4,
  "nbformat_minor": 0
}